{
 "cells": [
  {
   "cell_type": "code",
   "execution_count": 50,
   "id": "00c3db47",
   "metadata": {},
   "outputs": [],
   "source": [
    "import pandas as pd\n",
    "import numpy as np\n",
    "from sklearn.ensemble import RandomForestClassifier\n",
    "from sklearn.model_selection import train_test_split\n",
    "from sklearn.model_selection import GridSearchCV\n",
    "import matplotlib.pyplot as plt\n",
    "import seaborn as sns\n",
    "from xgboost import XGBClassifier\n",
    "import numpy as np\n",
    "from sklearn.metrics import r2_score\n",
    "from sklearn.metrics import accuracy_score\n",
    "from sklearn.metrics import precision_score\n",
    "from sklearn.metrics import f1_score\n",
    "from sklearn.metrics import recall_score\n",
    "\n",
    "from sklearn.preprocessing import OneHotEncoder, StandardScaler\n",
    "from sklearn.compose import make_column_transformer\n",
    "from sklearn.pipeline import make_pipeline\n",
    "from sklearn import preprocessing"
   ]
  },
  {
   "cell_type": "code",
   "execution_count": 51,
   "id": "e3e72dde",
   "metadata": {},
   "outputs": [],
   "source": [
    "df_train = pd.read_csv(\"/home/shifr/jupyter_notebooks/kagle/Binary Classification of Machine Failures/train.csv\")\n",
    "df_test = pd.read_csv(\"/home/shifr/jupyter_notebooks/kagle/Binary Classification of Machine Failures/test.csv\")\n",
    "df_submission = pd.read_csv(\"/home/shifr/jupyter_notebooks/kagle/Binary Classification of Machine Failures/sample_submission.csv\")"
   ]
  },
  {
   "cell_type": "code",
   "execution_count": 52,
   "id": "2b0b4086",
   "metadata": {
    "scrolled": true
   },
   "outputs": [
    {
     "data": {
      "text/html": [
       "<div>\n",
       "<style scoped>\n",
       "    .dataframe tbody tr th:only-of-type {\n",
       "        vertical-align: middle;\n",
       "    }\n",
       "\n",
       "    .dataframe tbody tr th {\n",
       "        vertical-align: top;\n",
       "    }\n",
       "\n",
       "    .dataframe thead th {\n",
       "        text-align: right;\n",
       "    }\n",
       "</style>\n",
       "<table border=\"1\" class=\"dataframe\">\n",
       "  <thead>\n",
       "    <tr style=\"text-align: right;\">\n",
       "      <th></th>\n",
       "      <th>id</th>\n",
       "      <th>Machine failure</th>\n",
       "    </tr>\n",
       "  </thead>\n",
       "  <tbody>\n",
       "    <tr>\n",
       "      <th>0</th>\n",
       "      <td>136429</td>\n",
       "      <td>0.5</td>\n",
       "    </tr>\n",
       "    <tr>\n",
       "      <th>1</th>\n",
       "      <td>136430</td>\n",
       "      <td>0.5</td>\n",
       "    </tr>\n",
       "    <tr>\n",
       "      <th>2</th>\n",
       "      <td>136431</td>\n",
       "      <td>0.5</td>\n",
       "    </tr>\n",
       "    <tr>\n",
       "      <th>3</th>\n",
       "      <td>136432</td>\n",
       "      <td>0.5</td>\n",
       "    </tr>\n",
       "    <tr>\n",
       "      <th>4</th>\n",
       "      <td>136433</td>\n",
       "      <td>0.5</td>\n",
       "    </tr>\n",
       "    <tr>\n",
       "      <th>...</th>\n",
       "      <td>...</td>\n",
       "      <td>...</td>\n",
       "    </tr>\n",
       "    <tr>\n",
       "      <th>90949</th>\n",
       "      <td>227378</td>\n",
       "      <td>0.5</td>\n",
       "    </tr>\n",
       "    <tr>\n",
       "      <th>90950</th>\n",
       "      <td>227379</td>\n",
       "      <td>0.5</td>\n",
       "    </tr>\n",
       "    <tr>\n",
       "      <th>90951</th>\n",
       "      <td>227380</td>\n",
       "      <td>0.5</td>\n",
       "    </tr>\n",
       "    <tr>\n",
       "      <th>90952</th>\n",
       "      <td>227381</td>\n",
       "      <td>0.5</td>\n",
       "    </tr>\n",
       "    <tr>\n",
       "      <th>90953</th>\n",
       "      <td>227382</td>\n",
       "      <td>0.5</td>\n",
       "    </tr>\n",
       "  </tbody>\n",
       "</table>\n",
       "<p>90954 rows × 2 columns</p>\n",
       "</div>"
      ],
      "text/plain": [
       "           id  Machine failure\n",
       "0      136429              0.5\n",
       "1      136430              0.5\n",
       "2      136431              0.5\n",
       "3      136432              0.5\n",
       "4      136433              0.5\n",
       "...       ...              ...\n",
       "90949  227378              0.5\n",
       "90950  227379              0.5\n",
       "90951  227380              0.5\n",
       "90952  227381              0.5\n",
       "90953  227382              0.5\n",
       "\n",
       "[90954 rows x 2 columns]"
      ]
     },
     "execution_count": 52,
     "metadata": {},
     "output_type": "execute_result"
    }
   ],
   "source": [
    "\n",
    "df_submission"
   ]
  },
  {
   "cell_type": "code",
   "execution_count": 53,
   "id": "8b8e4ca6",
   "metadata": {},
   "outputs": [
    {
     "data": {
      "text/html": [
       "<div>\n",
       "<style scoped>\n",
       "    .dataframe tbody tr th:only-of-type {\n",
       "        vertical-align: middle;\n",
       "    }\n",
       "\n",
       "    .dataframe tbody tr th {\n",
       "        vertical-align: top;\n",
       "    }\n",
       "\n",
       "    .dataframe thead th {\n",
       "        text-align: right;\n",
       "    }\n",
       "</style>\n",
       "<table border=\"1\" class=\"dataframe\">\n",
       "  <thead>\n",
       "    <tr style=\"text-align: right;\">\n",
       "      <th></th>\n",
       "      <th>id</th>\n",
       "      <th>Product ID</th>\n",
       "      <th>Type</th>\n",
       "      <th>Air temperature [K]</th>\n",
       "      <th>Process temperature [K]</th>\n",
       "      <th>Rotational speed [rpm]</th>\n",
       "      <th>Torque [Nm]</th>\n",
       "      <th>Tool wear [min]</th>\n",
       "      <th>Machine failure</th>\n",
       "      <th>TWF</th>\n",
       "      <th>HDF</th>\n",
       "      <th>PWF</th>\n",
       "      <th>OSF</th>\n",
       "      <th>RNF</th>\n",
       "    </tr>\n",
       "  </thead>\n",
       "  <tbody>\n",
       "    <tr>\n",
       "      <th>0</th>\n",
       "      <td>0</td>\n",
       "      <td>L50096</td>\n",
       "      <td>L</td>\n",
       "      <td>300.6</td>\n",
       "      <td>309.6</td>\n",
       "      <td>1596</td>\n",
       "      <td>36.1</td>\n",
       "      <td>140</td>\n",
       "      <td>0</td>\n",
       "      <td>0</td>\n",
       "      <td>0</td>\n",
       "      <td>0</td>\n",
       "      <td>0</td>\n",
       "      <td>0</td>\n",
       "    </tr>\n",
       "    <tr>\n",
       "      <th>1</th>\n",
       "      <td>1</td>\n",
       "      <td>M20343</td>\n",
       "      <td>M</td>\n",
       "      <td>302.6</td>\n",
       "      <td>312.1</td>\n",
       "      <td>1759</td>\n",
       "      <td>29.1</td>\n",
       "      <td>200</td>\n",
       "      <td>0</td>\n",
       "      <td>0</td>\n",
       "      <td>0</td>\n",
       "      <td>0</td>\n",
       "      <td>0</td>\n",
       "      <td>0</td>\n",
       "    </tr>\n",
       "    <tr>\n",
       "      <th>2</th>\n",
       "      <td>2</td>\n",
       "      <td>L49454</td>\n",
       "      <td>L</td>\n",
       "      <td>299.3</td>\n",
       "      <td>308.5</td>\n",
       "      <td>1805</td>\n",
       "      <td>26.5</td>\n",
       "      <td>25</td>\n",
       "      <td>0</td>\n",
       "      <td>0</td>\n",
       "      <td>0</td>\n",
       "      <td>0</td>\n",
       "      <td>0</td>\n",
       "      <td>0</td>\n",
       "    </tr>\n",
       "    <tr>\n",
       "      <th>3</th>\n",
       "      <td>3</td>\n",
       "      <td>L53355</td>\n",
       "      <td>L</td>\n",
       "      <td>301.0</td>\n",
       "      <td>310.9</td>\n",
       "      <td>1524</td>\n",
       "      <td>44.3</td>\n",
       "      <td>197</td>\n",
       "      <td>0</td>\n",
       "      <td>0</td>\n",
       "      <td>0</td>\n",
       "      <td>0</td>\n",
       "      <td>0</td>\n",
       "      <td>0</td>\n",
       "    </tr>\n",
       "    <tr>\n",
       "      <th>4</th>\n",
       "      <td>4</td>\n",
       "      <td>M24050</td>\n",
       "      <td>M</td>\n",
       "      <td>298.0</td>\n",
       "      <td>309.0</td>\n",
       "      <td>1641</td>\n",
       "      <td>35.4</td>\n",
       "      <td>34</td>\n",
       "      <td>0</td>\n",
       "      <td>0</td>\n",
       "      <td>0</td>\n",
       "      <td>0</td>\n",
       "      <td>0</td>\n",
       "      <td>0</td>\n",
       "    </tr>\n",
       "    <tr>\n",
       "      <th>...</th>\n",
       "      <td>...</td>\n",
       "      <td>...</td>\n",
       "      <td>...</td>\n",
       "      <td>...</td>\n",
       "      <td>...</td>\n",
       "      <td>...</td>\n",
       "      <td>...</td>\n",
       "      <td>...</td>\n",
       "      <td>...</td>\n",
       "      <td>...</td>\n",
       "      <td>...</td>\n",
       "      <td>...</td>\n",
       "      <td>...</td>\n",
       "      <td>...</td>\n",
       "    </tr>\n",
       "    <tr>\n",
       "      <th>136424</th>\n",
       "      <td>136424</td>\n",
       "      <td>M22284</td>\n",
       "      <td>M</td>\n",
       "      <td>300.1</td>\n",
       "      <td>311.4</td>\n",
       "      <td>1530</td>\n",
       "      <td>37.5</td>\n",
       "      <td>210</td>\n",
       "      <td>0</td>\n",
       "      <td>0</td>\n",
       "      <td>0</td>\n",
       "      <td>0</td>\n",
       "      <td>0</td>\n",
       "      <td>0</td>\n",
       "    </tr>\n",
       "    <tr>\n",
       "      <th>136425</th>\n",
       "      <td>136425</td>\n",
       "      <td>H38017</td>\n",
       "      <td>H</td>\n",
       "      <td>297.5</td>\n",
       "      <td>308.5</td>\n",
       "      <td>1447</td>\n",
       "      <td>49.1</td>\n",
       "      <td>2</td>\n",
       "      <td>0</td>\n",
       "      <td>0</td>\n",
       "      <td>0</td>\n",
       "      <td>0</td>\n",
       "      <td>0</td>\n",
       "      <td>0</td>\n",
       "    </tr>\n",
       "    <tr>\n",
       "      <th>136426</th>\n",
       "      <td>136426</td>\n",
       "      <td>L54690</td>\n",
       "      <td>L</td>\n",
       "      <td>300.5</td>\n",
       "      <td>311.8</td>\n",
       "      <td>1524</td>\n",
       "      <td>38.5</td>\n",
       "      <td>214</td>\n",
       "      <td>0</td>\n",
       "      <td>0</td>\n",
       "      <td>0</td>\n",
       "      <td>0</td>\n",
       "      <td>0</td>\n",
       "      <td>0</td>\n",
       "    </tr>\n",
       "    <tr>\n",
       "      <th>136427</th>\n",
       "      <td>136427</td>\n",
       "      <td>L53876</td>\n",
       "      <td>L</td>\n",
       "      <td>301.7</td>\n",
       "      <td>310.9</td>\n",
       "      <td>1447</td>\n",
       "      <td>46.3</td>\n",
       "      <td>42</td>\n",
       "      <td>0</td>\n",
       "      <td>0</td>\n",
       "      <td>0</td>\n",
       "      <td>0</td>\n",
       "      <td>0</td>\n",
       "      <td>0</td>\n",
       "    </tr>\n",
       "    <tr>\n",
       "      <th>136428</th>\n",
       "      <td>136428</td>\n",
       "      <td>L47937</td>\n",
       "      <td>L</td>\n",
       "      <td>296.9</td>\n",
       "      <td>308.1</td>\n",
       "      <td>1557</td>\n",
       "      <td>39.3</td>\n",
       "      <td>229</td>\n",
       "      <td>0</td>\n",
       "      <td>0</td>\n",
       "      <td>0</td>\n",
       "      <td>0</td>\n",
       "      <td>0</td>\n",
       "      <td>0</td>\n",
       "    </tr>\n",
       "  </tbody>\n",
       "</table>\n",
       "<p>136429 rows × 14 columns</p>\n",
       "</div>"
      ],
      "text/plain": [
       "            id Product ID Type  Air temperature [K]  Process temperature [K]   \n",
       "0            0     L50096    L                300.6                    309.6  \\\n",
       "1            1     M20343    M                302.6                    312.1   \n",
       "2            2     L49454    L                299.3                    308.5   \n",
       "3            3     L53355    L                301.0                    310.9   \n",
       "4            4     M24050    M                298.0                    309.0   \n",
       "...        ...        ...  ...                  ...                      ...   \n",
       "136424  136424     M22284    M                300.1                    311.4   \n",
       "136425  136425     H38017    H                297.5                    308.5   \n",
       "136426  136426     L54690    L                300.5                    311.8   \n",
       "136427  136427     L53876    L                301.7                    310.9   \n",
       "136428  136428     L47937    L                296.9                    308.1   \n",
       "\n",
       "        Rotational speed [rpm]  Torque [Nm]  Tool wear [min]  Machine failure   \n",
       "0                         1596         36.1              140                0  \\\n",
       "1                         1759         29.1              200                0   \n",
       "2                         1805         26.5               25                0   \n",
       "3                         1524         44.3              197                0   \n",
       "4                         1641         35.4               34                0   \n",
       "...                        ...          ...              ...              ...   \n",
       "136424                    1530         37.5              210                0   \n",
       "136425                    1447         49.1                2                0   \n",
       "136426                    1524         38.5              214                0   \n",
       "136427                    1447         46.3               42                0   \n",
       "136428                    1557         39.3              229                0   \n",
       "\n",
       "        TWF  HDF  PWF  OSF  RNF  \n",
       "0         0    0    0    0    0  \n",
       "1         0    0    0    0    0  \n",
       "2         0    0    0    0    0  \n",
       "3         0    0    0    0    0  \n",
       "4         0    0    0    0    0  \n",
       "...     ...  ...  ...  ...  ...  \n",
       "136424    0    0    0    0    0  \n",
       "136425    0    0    0    0    0  \n",
       "136426    0    0    0    0    0  \n",
       "136427    0    0    0    0    0  \n",
       "136428    0    0    0    0    0  \n",
       "\n",
       "[136429 rows x 14 columns]"
      ]
     },
     "execution_count": 53,
     "metadata": {},
     "output_type": "execute_result"
    }
   ],
   "source": [
    "df_train"
   ]
  },
  {
   "cell_type": "code",
   "execution_count": 54,
   "id": "3592d10c-3b98-4903-b7b6-bcae91b10f55",
   "metadata": {},
   "outputs": [],
   "source": [
    "label_encoder = preprocessing.LabelEncoder()\n",
    "df_train['Type']= label_encoder.fit_transform(df_train['Type'])\n",
    "df_test['Type']= label_encoder.fit_transform(df_test['Type'])"
   ]
  },
  {
   "cell_type": "code",
   "execution_count": 55,
   "id": "bbb8ebab",
   "metadata": {},
   "outputs": [],
   "source": [
    "cat_columns=['Type','TWF', 'HDF', 'PWF', 'OSF','RNF']\n",
    "numcols=['Air temperature [K]','Process temperature [K]','Rotational speed [rpm]','Torque [Nm]','Tool wear [min]']\n",
    "target = ['Machine failure']"
   ]
  },
  {
   "cell_type": "code",
   "execution_count": 56,
   "id": "5e67e967",
   "metadata": {},
   "outputs": [
    {
     "name": "stdout",
     "output_type": "stream",
     "text": [
      "<class 'pandas.core.frame.DataFrame'>\n",
      "RangeIndex: 136429 entries, 0 to 136428\n",
      "Data columns (total 14 columns):\n",
      " #   Column                   Non-Null Count   Dtype  \n",
      "---  ------                   --------------   -----  \n",
      " 0   id                       136429 non-null  int64  \n",
      " 1   Product ID               136429 non-null  object \n",
      " 2   Type                     136429 non-null  int64  \n",
      " 3   Air temperature [K]      136429 non-null  float64\n",
      " 4   Process temperature [K]  136429 non-null  float64\n",
      " 5   Rotational speed [rpm]   136429 non-null  int64  \n",
      " 6   Torque [Nm]              136429 non-null  float64\n",
      " 7   Tool wear [min]          136429 non-null  int64  \n",
      " 8   Machine failure          136429 non-null  int64  \n",
      " 9   TWF                      136429 non-null  int64  \n",
      " 10  HDF                      136429 non-null  int64  \n",
      " 11  PWF                      136429 non-null  int64  \n",
      " 12  OSF                      136429 non-null  int64  \n",
      " 13  RNF                      136429 non-null  int64  \n",
      "dtypes: float64(3), int64(10), object(1)\n",
      "memory usage: 14.6+ MB\n"
     ]
    }
   ],
   "source": [
    "df_train.info()"
   ]
  },
  {
   "cell_type": "code",
   "execution_count": 57,
   "id": "0912c96c",
   "metadata": {},
   "outputs": [
    {
     "name": "stdout",
     "output_type": "stream",
     "text": [
      "<class 'pandas.core.frame.DataFrame'>\n",
      "RangeIndex: 90954 entries, 0 to 90953\n",
      "Data columns (total 13 columns):\n",
      " #   Column                   Non-Null Count  Dtype  \n",
      "---  ------                   --------------  -----  \n",
      " 0   id                       90954 non-null  int64  \n",
      " 1   Product ID               90954 non-null  object \n",
      " 2   Type                     90954 non-null  int64  \n",
      " 3   Air temperature [K]      90954 non-null  float64\n",
      " 4   Process temperature [K]  90954 non-null  float64\n",
      " 5   Rotational speed [rpm]   90954 non-null  int64  \n",
      " 6   Torque [Nm]              90954 non-null  float64\n",
      " 7   Tool wear [min]          90954 non-null  int64  \n",
      " 8   TWF                      90954 non-null  int64  \n",
      " 9   HDF                      90954 non-null  int64  \n",
      " 10  PWF                      90954 non-null  int64  \n",
      " 11  OSF                      90954 non-null  int64  \n",
      " 12  RNF                      90954 non-null  int64  \n",
      "dtypes: float64(3), int64(9), object(1)\n",
      "memory usage: 9.0+ MB\n"
     ]
    }
   ],
   "source": [
    "df_test.info()"
   ]
  },
  {
   "cell_type": "markdown",
   "id": "d2a6f26f",
   "metadata": {},
   "source": [
    "\n",
    "\n",
    "### Features\n",
    "\n",
    "#### id: This is a unique identifier for each data entry in the dataset. It's useful for tracking individual data points but doesn't contribute to the predictive model.\n",
    "\n",
    "#### Product ID: This identifier for the specific product/machine could be useful in identifying if certain machines are more prone to failure than others.\n",
    "\n",
    "#### Type: The type of machine or equipment could influence the likelihood of failure. Different types of machines may have different failure rates.\n",
    "\n",
    "#### Air temperature [K] and Process temperature [K]: The temperatures of the air and the machine during the process could be critical in predicting machine failure. Overheating is a common cause of machine failure.\n",
    "\n",
    "#### Rotational speed [rpm]: The speed of rotation of the machine could also be a factor in machine failure. Machines running at high speeds may be more likely to fail.\n",
    "\n",
    "#### Torque [Nm]: The rotational or twisting force applied by the machine could contribute to wear and tear, leading to machine failure.\n",
    "\n",
    "#### Tool wear [min]: The duration of tool usage could be a strong predictor of machine failure. Tools that have been used for longer periods are more likely to fail.\n",
    "\n",
    "#### Machine failure: This is our target variable. It's a binary indicator representing whether the machine experienced failure or not.\n",
    "\n",
    "#### TWF (Tool Wear Failure), HDF (Heat Dissipation Failure), PWF (Power Failure), OSF (Overstrain Failure), RNF (Random Failure): These binary indicators for different types of failures provide detailed information about the nature of the machine failures. They could be useful in building a more nuanced predictive model.\n"
   ]
  },
  {
   "cell_type": "code",
   "execution_count": 58,
   "id": "ebbebe10-b33f-45bd-aede-32a80b634395",
   "metadata": {},
   "outputs": [],
   "source": [
    "df_train = df_train.drop([\"id\",\"Product ID\"] ,axis=1)\n",
    "df_test = df_test.drop([\"Product ID\"] ,axis=1)"
   ]
  },
  {
   "cell_type": "code",
   "execution_count": 59,
   "id": "1cb5e3c7",
   "metadata": {},
   "outputs": [],
   "source": [
    "# X = df_train.drop([\"id\",\"Machine failure\",\"Product ID\"] ,axis=1)\n",
    "# df_test = df_test.drop([\"id\",\"Product ID\"] ,axis=1)\n",
    "# y = df_train[\"Machine failure\"]"
   ]
  },
  {
   "cell_type": "code",
   "execution_count": 60,
   "id": "710bfe03",
   "metadata": {},
   "outputs": [],
   "source": [
    "def missing_values(df): \n",
    "    current=0\n",
    "    for i in df.columns:\n",
    "        if pd.isnull(df[i]).any():\n",
    "            current =1\n",
    "            print(f\"В столбце {i}, есть пропущенные значения.{pd.isnull(df[i]).any()}\")\n",
    "    if not current:\n",
    "        print(\"Пропущенных значений нет\")"
   ]
  },
  {
   "cell_type": "code",
   "execution_count": 61,
   "id": "b6da861b",
   "metadata": {},
   "outputs": [],
   "source": [
    "def transformation_cols(df):\n",
    "    missing_values(df)\n",
    "    for i in list(df.select_dtypes(include='object').columns):\n",
    "        df[i] = df[i].fillna('nan')\n",
    "        df[i] = df[i].astype(str)\n",
    "    print(\"\\nВ 'object' все пропущенные значения обработаны\")\n",
    "    for i in list(df.select_dtypes(include='int').columns):\n",
    "        if i not in  'id' and i not in  target:\n",
    "            df[i] = df[i].fillna(0)\n",
    "            df[i] = df[i].astype(float)\n",
    "    print(\"В 'int' все пропущенные значения обработаны\")\n",
    "    for i in list(df.select_dtypes(include='float').columns):\n",
    "        if i not in  'id'and i not in  target:\n",
    "            df[i] = df[i].fillna(0)\n",
    "            df[i] = df[i].astype(float)\n",
    "    print(\"В 'float' все пропущенные значения обработаны\")"
   ]
  },
  {
   "cell_type": "code",
   "execution_count": 62,
   "id": "35d8554f",
   "metadata": {},
   "outputs": [
    {
     "name": "stdout",
     "output_type": "stream",
     "text": [
      "Пропущенных значений нет\n",
      "\n",
      "В 'object' все пропущенные значения обработаны\n",
      "В 'int' все пропущенные значения обработаны\n",
      "В 'float' все пропущенные значения обработаны\n"
     ]
    }
   ],
   "source": [
    "transformation_cols(df_train)"
   ]
  },
  {
   "cell_type": "code",
   "execution_count": 63,
   "id": "50b95bcb",
   "metadata": {},
   "outputs": [
    {
     "name": "stdout",
     "output_type": "stream",
     "text": [
      "<class 'pandas.core.frame.DataFrame'>\n",
      "RangeIndex: 136429 entries, 0 to 136428\n",
      "Data columns (total 12 columns):\n",
      " #   Column                   Non-Null Count   Dtype  \n",
      "---  ------                   --------------   -----  \n",
      " 0   Type                     136429 non-null  float64\n",
      " 1   Air temperature [K]      136429 non-null  float64\n",
      " 2   Process temperature [K]  136429 non-null  float64\n",
      " 3   Rotational speed [rpm]   136429 non-null  float64\n",
      " 4   Torque [Nm]              136429 non-null  float64\n",
      " 5   Tool wear [min]          136429 non-null  float64\n",
      " 6   Machine failure          136429 non-null  int64  \n",
      " 7   TWF                      136429 non-null  float64\n",
      " 8   HDF                      136429 non-null  float64\n",
      " 9   PWF                      136429 non-null  float64\n",
      " 10  OSF                      136429 non-null  float64\n",
      " 11  RNF                      136429 non-null  float64\n",
      "dtypes: float64(11), int64(1)\n",
      "memory usage: 12.5 MB\n"
     ]
    }
   ],
   "source": [
    "df_train.info()"
   ]
  },
  {
   "cell_type": "code",
   "execution_count": 64,
   "id": "cc902850",
   "metadata": {},
   "outputs": [
    {
     "name": "stdout",
     "output_type": "stream",
     "text": [
      "Пропущенных значений нет\n",
      "\n",
      "В 'object' все пропущенные значения обработаны\n",
      "В 'int' все пропущенные значения обработаны\n",
      "В 'float' все пропущенные значения обработаны\n"
     ]
    }
   ],
   "source": [
    "transformation_cols(df_test)"
   ]
  },
  {
   "cell_type": "code",
   "execution_count": 65,
   "id": "39a67afc-afbc-4645-a091-3bd0406916fc",
   "metadata": {},
   "outputs": [
    {
     "data": {
      "image/png": "[encoded data removed]",
      "text/plain": [
       "<Figure size 3000x3000 with 2 Axes>"
      ]
     },
     "metadata": {},
     "output_type": "display_data"
    }
   ],
   "source": [
    "f, ax = plt.subplots(figsize=[30, 30])\n",
    "sns.heatmap(df_train[numcols].corr(), annot=True, fmt=\".2f\", ax=ax, cmap=\"magma\")\n",
    "ax.set_title(\"Correlation Matrix\", fontsize=30)\n",
    "plt.show()"
   ]
  },
  {
   "cell_type": "code",
   "execution_count": 66,
   "id": "91741983-347f-42b9-be9f-9377868fc9d4",
   "metadata": {},
   "outputs": [],
   "source": [
    "df_train = df_train.drop([\"Air temperature [K]\"] ,axis=1)\n",
    "df_test = df_test.drop([\"Air temperature [K]\"] ,axis=1)"
   ]
  },
  {
   "cell_type": "code",
   "execution_count": 67,
   "id": "22bf638a-744e-4a45-8e51-46d614c7cb07",
   "metadata": {},
   "outputs": [],
   "source": [
    "numcols = numcols[1:]"
   ]
  },
  {
   "cell_type": "code",
   "execution_count": 68,
   "id": "ab234455-2477-478d-9638-8105d462851b",
   "metadata": {},
   "outputs": [],
   "source": [
    "X_train, X_test, y_train, y_test = train_test_split(\n",
    "    df_train[numcols+cat_columns], df_train[target], test_size=0.33, random_state=42)"
   ]
  },
  {
   "cell_type": "code",
   "execution_count": 69,
   "id": "0e95f566-ca38-4573-bfab-7d1fe7df7359",
   "metadata": {},
   "outputs": [],
   "source": [
    "y_train = pd.Series.ravel(y_train)"
   ]
  },
  {
   "cell_type": "code",
   "execution_count": 70,
   "id": "03bea199-bfd9-4cb9-bc18-fc3bf4768447",
   "metadata": {},
   "outputs": [
    {
     "data": {
      "text/plain": [
       "{'max_depth': 7,\n",
       " 'min_samples_leaf': 1,\n",
       " 'min_samples_split': 7,\n",
       " 'n_estimators': 35}"
      ]
     },
     "execution_count": 70,
     "metadata": {},
     "output_type": "execute_result"
    }
   ],
   "source": [
    "clf =RandomForestClassifier(random_state=0)\n",
    "params = {\n",
    "    'n_estimators':range(5,51,5),\n",
    "    'max_depth':range(3,8),\n",
    "    'min_samples_leaf':range(1,5),\n",
    "    'min_samples_split':range(5,16)   \n",
    "}\n",
    "grid_search_cv_clf = GridSearchCV(clf, param_grid=params, cv=3, n_jobs=-1)\n",
    "grid_search_cv_clf.fit(X_train, y_train)\n",
    "grid_search_cv_clf.best_params_"
   ]
  },
  {
   "cell_type": "code",
   "execution_count": 74,
   "id": "199f537c-6a9b-42a3-9c7d-3b76e727b8bd",
   "metadata": {},
   "outputs": [
    {
     "name": "stdout",
     "output_type": "stream",
     "text": [
      "Accuracy is:  0.9961352227799742\n",
      "precision is:  0.9924528301886792\n",
      "f1 is:  0.8580750407830343\n",
      "recall is:  0.7557471264367817\n"
     ]
    }
   ],
   "source": [
    "y_pred = grid_search_cv_clf.predict(X_test)\n",
    "accuracy =accuracy_score(y_test,y_pred) \n",
    "precision = precision_score(y_test,y_pred) \n",
    "f1 = f1_score(y_test,y_pred) \n",
    "recall = recall_score(y_test,y_pred) \n",
    "print(\"Accuracy is: \", accuracy)\n",
    "print(\"precision is: \", precision)\n",
    "print(\"f1 is: \",f1)\n",
    "print(\"recall is: \", recall)"
   ]
  },
  {
   "cell_type": "code",
   "execution_count": 72,
   "id": "0af6759c-2790-4bd5-9718-50b552cb690c",
   "metadata": {},
   "outputs": [],
   "source": [
    "y_pred_df_test = grid_search_cv_clf.predict(df_test[numcols+cat_columns])"
   ]
  },
  {
   "cell_type": "code",
   "execution_count": 73,
   "id": "7dbecfb9-aa1e-4456-8407-37276f472edf",
   "metadata": {},
   "outputs": [],
   "source": [
    "output = pd.DataFrame({'Id':df_test['id'], \n",
    "                          'Machine failure': y_pred_df_test})\n",
    "output.to_csv('submission_clf.csv', index=False)"
   ]
  },
  {
   "cell_type": "code",
   "execution_count": null,
   "id": "a51cb30a-6b30-4c51-8e85-be340d240a5a",
   "metadata": {},
   "outputs": [],
   "source": []
  }
 ],
 "metadata": {
  "kernelspec": {
   "display_name": "Python 3 (ipykernel)",
   "language": "python",
   "name": "python3"
  },
  "language_info": {
   "codemirror_mode": {
    "name": "ipython",
    "version": 3
   },
   "file_extension": ".py",
   "mimetype": "text/x-python",
   "name": "python",
   "nbconvert_exporter": "python",
   "pygments_lexer": "ipython3",
   "version": "3.11.5"
  }
 },
 "nbformat": 4,
 "nbformat_minor": 5
}
